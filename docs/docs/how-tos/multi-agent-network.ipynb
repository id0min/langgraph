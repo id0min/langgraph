{
 "cells": [
  {
   "cell_type": "markdown",
   "id": "87684b48-150e-4e15-b0a5-a9dd7851f8fb",
   "metadata": {},
   "source": [
    "# How to build a multi-agent network"
   ]
  },
  {
   "attachments": {},
   "cell_type": "markdown",
   "id": "2c65639c-9705-49f1-840a-370718852e98",
   "metadata": {},
   "source": [
    "!!! info \"Prerequisites\"\n",
    "    This guide assumes familiarity with the following:\n",
    "  \n",
    "    - [Command](../../concepts/low_level/#command)\n",
    "    - [Multi-agent systems](../../concepts/multi_agent)\n",
    "\n",
    "\n",
    "In this how-to guide we will build a simple case of a [multi-agent network](../../concepts/multi_agent#network) architecture. We will create a team of agents that all run at the same time and share state. At each step, each agent will inspect the state and decide whether to halt or continue executing on the next step. If it continues, it will update the shared state. \n",
    "\n",
    "To do so, the agent nodes will return `Command` object that allows you to [combine both control flow and state updates](../command):\n",
    "\n",
    "```python\n",
    "def agent_one(state: State) -> Command[Literal[\"agent_one\"]]:\n",
    "    # the condition for halting/continuation can be anything, e.g. LLM tool call / structured output, etc.\n",
    "    ...\n",
    "    if not should_halt:\n",
    "        return Command(goto=\"agent_one\", update={\"my_state_key\": \"my_state_value\"})\n",
    "```"
   ]
  },
  {
   "cell_type": "markdown",
   "id": "faaa4444-cd06-4813-b9ca-c9700fe12cb7",
   "metadata": {},
   "source": [
    "## Setup\n",
    "\n",
    "First, let's install the required packages"
   ]
  },
  {
   "cell_type": "code",
   "execution_count": 1,
   "id": "05038da0-31df-4066-a1a4-c4ccb5db4d3a",
   "metadata": {},
   "outputs": [],
   "source": [
    "%%capture --no-stderr\n",
    "%pip install -U langgraph"
   ]
  },
  {
   "cell_type": "markdown",
   "id": "c3ec6e48-85dc-4905-ba50-985e5d4788e6",
   "metadata": {},
   "source": [
    "<div class=\"admonition tip\">\n",
    "    <p class=\"admonition-title\">Set up <a href=\"https://smith.langchain.com\">LangSmith</a> for LangGraph development</p>\n",
    "    <p style=\"padding-top: 5px;\">\n",
    "        Sign up for LangSmith to quickly spot issues and improve the performance of your LangGraph projects. LangSmith lets you use trace data to debug, test, and monitor your LLM apps built with LangGraph — read more about how to get started <a href=\"https://docs.smith.langchain.com\">here</a>. \n",
    "    </p>\n",
    "</div>"
   ]
  },
  {
   "cell_type": "markdown",
   "id": "3f9930b9-16b4-4179-9990-7ddf48cb3ed7",
   "metadata": {},
   "source": [
    "## Define graph"
   ]
  },
  {
   "attachments": {},
   "cell_type": "markdown",
   "id": "3f7b49c5-070e-4289-88aa-afbfae44cc98",
   "metadata": {},
   "source": [
    "Our agents will be simple node functions (`agent_one|two|three`). At each step of the graph execution, each node function will inspect the `total` value in the state and decide whether it should halt or continue. If it decides to continue, it will increment the `total` value in the state and loop back to itself to run at the next step. \n",
    "\n",
    "Now, let's define our agent nodes and graph! "
   ]
  },
  {
   "cell_type": "code",
   "execution_count": 2,
   "id": "f15c38c0-c88a-404b-9687-a9ef9ff20ffc",
   "metadata": {},
   "outputs": [],
   "source": [
    "from typing_extensions import Annotated, TypedDict, Literal\n",
    "\n",
    "from langchain_core.runnables import RunnableConfig\n",
    "from langgraph.graph import StateGraph, START\n",
    "from langgraph.types import Command\n",
    "\n",
    "import operator\n",
    "\n",
    "\n",
    "class State(TypedDict):\n",
    "    # note that we're defining a reducer (operator.add) here.\n",
    "    # This will allow all agents to write their updates to `total` concurrently.\n",
    "    total: Annotated[int, operator.add]\n",
    "\n",
    "\n",
    "def agent_one(state: State, config: RunnableConfig) -> Command[Literal[\"agent_one\"]]:\n",
    "    # the condition for halting/continuation can be anything, e.g. LLM tool call / structured output, etc.\n",
    "    should_halt = state[\"total\"] >= 5\n",
    "    if not should_halt:\n",
    "        print(\n",
    "            f'Running agent 1, step {config[\"metadata\"][\"langgraph_step\"]}. Total={state[\"total\"]}'\n",
    "        )\n",
    "        # increment total by 1 and loop back to agent 1\n",
    "        return Command(goto=\"agent_one\", update={\"total\": 1})\n",
    "\n",
    "\n",
    "def agent_two(state: State, config: RunnableConfig) -> Command[Literal[\"agent_two\"]]:\n",
    "    should_halt = state[\"total\"] >= 10\n",
    "    if not should_halt:\n",
    "        print(\n",
    "            f'Running agent 2, step {config[\"metadata\"][\"langgraph_step\"]}. Total={state[\"total\"]}'\n",
    "        )\n",
    "        # increment total by 2 and loop back to agent 2\n",
    "        return Command(goto=\"agent_two\", update={\"total\": 2})\n",
    "\n",
    "\n",
    "def agent_three(\n",
    "    state: State, config: RunnableConfig\n",
    ") -> Command[Literal[\"agent_three\"]]:\n",
    "    should_halt = state[\"total\"] >= 15\n",
    "    if not should_halt:\n",
    "        print(\n",
    "            f'Running agent 3, step {config[\"metadata\"][\"langgraph_step\"]}. Total={state[\"total\"]}'\n",
    "        )\n",
    "        # increment total by 3 and loop back to agent 3\n",
    "        return Command(goto=\"agent_three\", update={\"total\": 3})\n",
    "\n",
    "\n",
    "builder = StateGraph(State)\n",
    "# add agent nodes\n",
    "builder.add_node(agent_one)\n",
    "builder.add_node(agent_two)\n",
    "builder.add_node(agent_three)\n",
    "\n",
    "# add edges from start to each agent to run agents in parallel\n",
    "builder.add_edge(START, \"agent_one\")\n",
    "builder.add_edge(START, \"agent_two\")\n",
    "builder.add_edge(START, \"agent_three\")\n",
    "graph = builder.compile()"
   ]
  },
  {
   "cell_type": "code",
   "execution_count": 3,
   "id": "ab4cc03e-4e25-44ac-88b1-e415fcbce151",
   "metadata": {},
   "outputs": [
    {
     "data": {
      "image/png": "[encoded data removed]",
      "text/plain": [
       "<IPython.core.display.Image object>"
      ]
     },
     "metadata": {},
     "output_type": "display_data"
    }
   ],
   "source": [
    "from IPython.display import display, Image\n",
    "\n",
    "display(Image(graph.get_graph().draw_mermaid_png()))"
   ]
  },
  {
   "attachments": {},
   "cell_type": "markdown",
   "id": "c14e4347-7b92-4807-bbcd-8296b0f5d44e",
   "metadata": {},
   "source": [
    "This is the behavior that we'll expect to see:\n",
    "\n",
    "* __step 1__: `0 + (1 + 2 + 3) = 6`. Halt agent 1 (total >= 5)\n",
    "* __step 2__: `6 + (2 + 3) = 11`. Halt agent 2 (total >= 10)\n",
    "* __step 3__: `11 + 3 = 14`. Continue agent 3 (total < 15)\n",
    "* __step 4__: `14 + 3 = 17`. Halt agent 3 (total >= 15)\n",
    "\n",
    "Let's now run it!"
   ]
  },
  {
   "cell_type": "code",
   "execution_count": 4,
   "id": "475630bf-fb62-42ac-933f-62fe8b420eb5",
   "metadata": {},
   "outputs": [
    {
     "name": "stdout",
     "output_type": "stream",
     "text": [
      "Running agent 1, step 1. Total=0Running agent 2, step 1. Total=0\n",
      "\n",
      "Running agent 3, step 1. Total=0\n",
      "Running agent 2, step 2. Total=6\n",
      "Running agent 3, step 2. Total=6\n",
      "Running agent 3, step 3. Total=11\n",
      "Running agent 3, step 4. Total=14\n"
     ]
    },
    {
     "data": {
      "text/plain": [
       "{'total': 17}"
      ]
     },
     "execution_count": 4,
     "metadata": {},
     "output_type": "execute_result"
    }
   ],
   "source": [
    "input_ = {\"total\": 0}\n",
    "res = graph.invoke(input_)\n",
    "res"
   ]
  },
  {
   "cell_type": "markdown",
   "id": "27b7fea9-83c0-448c-956a-425ed4c530b0",
   "metadata": {},
   "source": [
    "We can verify that we ran agent 1 only once, agent 2 twice and agent 3 four times, until all agents halted. The final value of `total` is 17, as expected."
   ]
  }
 ],
 "metadata": {
  "kernelspec": {
   "display_name": "Python 3 (ipykernel)",
   "language": "python",
   "name": "python3"
  },
  "language_info": {
   "codemirror_mode": {
    "name": "ipython",
    "version": 3
   },
   "file_extension": ".py",
   "mimetype": "text/x-python",
   "name": "python",
   "nbconvert_exporter": "python",
   "pygments_lexer": "ipython3",
   "version": "3.12.3"
  }
 },
 "nbformat": 4,
 "nbformat_minor": 5
}
