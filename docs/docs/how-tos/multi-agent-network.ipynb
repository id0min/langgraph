{
 "cells": [
  {
   "cell_type": "markdown",
   "id": "87684b48-150e-4e15-b0a5-a9dd7851f8fb",
   "metadata": {},
   "source": [
    "# How to build a multi-agent network"
   ]
  },
  {
   "attachments": {},
   "cell_type": "markdown",
   "id": "2c65639c-9705-49f1-840a-370718852e98",
   "metadata": {},
   "source": [
    "!!! info \"Prerequisites\"\n",
    "    This guide assumes familiarity with the following:\n",
    "  \n",
    "    - [Command](../../concepts/low_level/#command)\n",
    "    - [Multi-agent systems](../../concepts/multi_agent)\n",
    "\n",
    "\n",
    "In this how-to guide we will build a simple case of a [multi-agent network](../../concepts/multi_agent#network) architecture. We will create a team of [non-player characters (NPCs)](https://en.wikipedia.org/wiki/Non-player_character) that all run at the same time and share game state (resources). At each step, each NPC will inspect the state and decide whether to halt or continue acting at the next step. If it continues, it will update the shared game state (produce or consume resources).\n",
    "\n",
    "To do so, the agent nodes will return `Command` object that allows you to [combine both control flow and state updates](../command):\n",
    "\n",
    "```python\n",
    "def character(state: GameState) -> Command[Literal[\"character\"]]:\n",
    "    # the condition for halting/continuation can be anything, e.g. LLM tool call / structured output, etc.\n",
    "    ...\n",
    "    if not should_halt:\n",
    "        return Command(goto=\"character\", update={\"my_state_key\": \"my_state_value\"})\n",
    "```"
   ]
  },
  {
   "cell_type": "markdown",
   "id": "faaa4444-cd06-4813-b9ca-c9700fe12cb7",
   "metadata": {},
   "source": [
    "## Setup\n",
    "\n",
    "First, let's install the required packages"
   ]
  },
  {
   "cell_type": "code",
   "execution_count": 1,
   "id": "05038da0-31df-4066-a1a4-c4ccb5db4d3a",
   "metadata": {},
   "outputs": [],
   "source": [
    "%%capture --no-stderr\n",
    "%pip install -U langgraph"
   ]
  },
  {
   "cell_type": "markdown",
   "id": "c3ec6e48-85dc-4905-ba50-985e5d4788e6",
   "metadata": {},
   "source": [
    "<div class=\"admonition tip\">\n",
    "    <p class=\"admonition-title\">Set up <a href=\"https://smith.langchain.com\">LangSmith</a> for LangGraph development</p>\n",
    "    <p style=\"padding-top: 5px;\">\n",
    "        Sign up for LangSmith to quickly spot issues and improve the performance of your LangGraph projects. LangSmith lets you use trace data to debug, test, and monitor your LLM apps built with LangGraph — read more about how to get started <a href=\"https://docs.smith.langchain.com\">here</a>. \n",
    "    </p>\n",
    "</div>"
   ]
  },
  {
   "cell_type": "markdown",
   "id": "3f9930b9-16b4-4179-9990-7ddf48cb3ed7",
   "metadata": {},
   "source": [
    "## Define graph"
   ]
  },
  {
   "attachments": {},
   "cell_type": "markdown",
   "id": "3f7b49c5-070e-4289-88aa-afbfae44cc98",
   "metadata": {},
   "source": [
    "We will create 4 NPC agents:\n",
    "\n",
    "- `villager`: produces wood and food until there is enough, then halts\n",
    "- `guard`: protects gold and consumes food. When there is not enough food, leaves duty and halts\n",
    "- `merchant`: trades wood for gold. When there is not enough wood, halts\n",
    "- `thief`: checks if the guard is on duty and steals all of the gold when the guard leaves, then halts\n",
    "\n",
    "Our NPC agents will be simple node functions (`villager`, `guard`, etc.). At each step of the graph execution, the agent function will inspect the resource values in the state and decide whether it should halt or continue. If it decides to continue, it will update the resource values in the state and loop back to itself to run at the next step.\n",
    "\n",
    "Now, let's define our agent nodes and graph!"
   ]
  },
  {
   "cell_type": "code",
   "execution_count": 78,
   "id": "f15c38c0-c88a-404b-9687-a9ef9ff20ffc",
   "metadata": {},
   "outputs": [],
   "source": [
    "from typing_extensions import Annotated, TypedDict, Literal\n",
    "\n",
    "from langchain_core.runnables import RunnableConfig\n",
    "from langgraph.graph import StateGraph, START\n",
    "from langgraph.types import Command\n",
    "\n",
    "import operator\n",
    "\n",
    "\n",
    "class GameState(TypedDict):\n",
    "    # note that we're defining a reducer (operator.add) here.\n",
    "    # This will allow all agents to write their updates for resources concurrently.\n",
    "    wood: Annotated[int, operator.add]\n",
    "    food: Annotated[int, operator.add]\n",
    "    gold: Annotated[int, operator.add]\n",
    "    guard_on_duty: bool\n",
    "\n",
    "\n",
    "def villager(state: GameState) -> Command[Literal[\"villager\"]]:\n",
    "    \"\"\"Villager NPC that gathers wood and food.\"\"\"\n",
    "    current_resources = state[\"wood\"] + state[\"food\"]\n",
    "    if current_resources < 15:  # Continue gathering until we have enough resources\n",
    "        print(f'Villager gathering resources.')\n",
    "        return Command(\n",
    "            goto=\"villager\",\n",
    "            update={\"wood\": 3, \"food\": 1}\n",
    "        )\n",
    "\n",
    "def guard(state: GameState) -> Command[Literal[\"guard\"]]:\n",
    "    \"\"\"Guard NPC that protects gold and consumes food.\"\"\"\n",
    "    if not state[\"guard_on_duty\"]:\n",
    "        return\n",
    "    \n",
    "    if state[\"food\"] > 0:  # Guard needs food to keep patrolling\n",
    "        print(f'Guard patrolling.')\n",
    "        return Command(\n",
    "            goto=\"guard\",\n",
    "            update={\"food\": -1}  # Consume food while patrolling\n",
    "        )\n",
    "    else:\n",
    "        print(f'Guard leaving to get food.')\n",
    "        return Command(update={\"guard_on_duty\": False})  # Leave to get food\n",
    "\n",
    "def merchant(state: GameState) -> Command[Literal[\"merchant\"]]:\n",
    "    \"\"\"Merchant NPC that trades wood for gold.\"\"\"\n",
    "    if state[\"wood\"] >= 5:  # Trade wood for gold when available\n",
    "        print(f'Merchant trading wood for gold.')\n",
    "        return Command(\n",
    "            goto=\"merchant\",\n",
    "            update={\"wood\": -5, \"gold\": 1}\n",
    "        )\n",
    "\n",
    "def thief(state: GameState) -> Command[Literal[\"thief\"]]:\n",
    "    \"\"\"Thief NPC that steals gold if the guard leaves to get food.\"\"\"\n",
    "    if not state[\"guard_on_duty\"]:\n",
    "        print(f'Thief stealing gold.')\n",
    "        return Command(update={\"gold\": -state[\"gold\"]})\n",
    "    else:\n",
    "        # keep thief on standby\n",
    "        return Command(goto=\"thief\")\n",
    "\n",
    "builder = StateGraph(GameState)\n",
    "\n",
    "# Add NPC nodes\n",
    "builder.add_node(villager)\n",
    "builder.add_node(guard)\n",
    "builder.add_node(merchant)\n",
    "builder.add_node(thief)\n",
    "\n",
    "# All NPCs start running in parallel\n",
    "builder.add_edge(START, \"villager\")\n",
    "builder.add_edge(START, \"guard\")\n",
    "builder.add_edge(START, \"merchant\")\n",
    "builder.add_edge(START, \"thief\")\n",
    "graph = builder.compile()"
   ]
  },
  {
   "cell_type": "code",
   "execution_count": 79,
   "id": "ab4cc03e-4e25-44ac-88b1-e415fcbce151",
   "metadata": {},
   "outputs": [
    {
     "data": {
      "image/png": "[encoded data removed]",
      "text/plain": [
       "<IPython.core.display.Image object>"
      ]
     },
     "metadata": {},
     "output_type": "display_data"
    }
   ],
   "source": [
    "from IPython.display import display, Image\n",
    "\n",
    "display(Image(graph.get_graph().draw_mermaid_png()))"
   ]
  },
  {
   "cell_type": "markdown",
   "id": "5a3ea167-c302-41f7-906e-60fd0e5cd004",
   "metadata": {},
   "source": [
    "Let's run it with some initial state!"
   ]
  },
  {
   "cell_type": "code",
   "execution_count": 80,
   "id": "83f50671-9371-46dd-847d-5db824c1141e",
   "metadata": {},
   "outputs": [
    {
     "name": "stdout",
     "output_type": "stream",
     "text": [
      "Game state {'wood': 10, 'food': 3, 'gold': 10, 'guard_on_duty': True}\n",
      "\n",
      "\n",
      "Villager gathering resources.\n",
      "Guard patrolling.\n",
      "Merchant trading wood for gold.\n",
      "Game state {'wood': 8, 'food': 3, 'gold': 11, 'guard_on_duty': True}\n",
      "\n",
      "\n",
      "Guard patrolling.\n",
      "Merchant trading wood for gold.\n",
      "Villager gathering resources.\n",
      "Game state {'wood': 6, 'food': 3, 'gold': 12, 'guard_on_duty': True}\n",
      "\n",
      "\n",
      "Guard patrolling.\n",
      "Merchant trading wood for gold.\n",
      "Villager gathering resources.\n",
      "Game state {'wood': 4, 'food': 3, 'gold': 13, 'guard_on_duty': True}\n",
      "\n",
      "\n",
      "Villager gathering resources.\n",
      "Guard patrolling.\n",
      "Game state {'wood': 7, 'food': 3, 'gold': 13, 'guard_on_duty': True}\n",
      "\n",
      "\n",
      "Guard patrolling.\n",
      "Villager gathering resources.\n",
      "Game state {'wood': 10, 'food': 3, 'gold': 13, 'guard_on_duty': True}\n",
      "\n",
      "\n",
      "Guard patrolling.\n",
      "Villager gathering resources.\n",
      "Game state {'wood': 13, 'food': 3, 'gold': 13, 'guard_on_duty': True}\n",
      "\n",
      "\n",
      "Guard patrolling.\n",
      "Game state {'wood': 13, 'food': 2, 'gold': 13, 'guard_on_duty': True}\n",
      "\n",
      "\n",
      "Guard patrolling.\n",
      "Game state {'wood': 13, 'food': 1, 'gold': 13, 'guard_on_duty': True}\n",
      "\n",
      "\n",
      "Guard patrolling.\n",
      "Game state {'wood': 13, 'food': 0, 'gold': 13, 'guard_on_duty': True}\n",
      "\n",
      "\n",
      "Guard leaving to get food.\n",
      "Game state {'wood': 13, 'food': 0, 'gold': 13, 'guard_on_duty': False}\n",
      "\n",
      "\n",
      "Thief stealing gold.\n",
      "Game state {'wood': 13, 'food': 0, 'gold': 0, 'guard_on_duty': False}\n",
      "\n",
      "\n"
     ]
    }
   ],
   "source": [
    "initial_state = {\n",
    "    \"wood\": 10,\n",
    "    \"food\": 3,\n",
    "    \"gold\": 10,\n",
    "    \"guard_on_duty\": True\n",
    "}\n",
    "for state in graph.stream(initial_state, stream_mode=\"values\"):\n",
    "    print(\"Game state\", state)\n",
    "    print(\"\\n\")"
   ]
  }
 ],
 "metadata": {
  "kernelspec": {
   "display_name": "Python 3 (ipykernel)",
   "language": "python",
   "name": "python3"
  },
  "language_info": {
   "codemirror_mode": {
    "name": "ipython",
    "version": 3
   },
   "file_extension": ".py",
   "mimetype": "text/x-python",
   "name": "python",
   "nbconvert_exporter": "python",
   "pygments_lexer": "ipython3",
   "version": "3.12.3"
  }
 },
 "nbformat": 4,
 "nbformat_minor": 5
}
