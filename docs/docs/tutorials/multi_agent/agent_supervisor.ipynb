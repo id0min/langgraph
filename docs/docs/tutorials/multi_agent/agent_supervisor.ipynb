{
  "cells": [
    {
      "cell_type": "markdown",
      "id": "a3e3ebc4-57af-4fe4-bdd3-36aff67bf276",
      "metadata": {
        "id": "a3e3ebc4-57af-4fe4-bdd3-36aff67bf276"
      },
      "source": [
        "# Multi-agent supervisor\n",
        "\n",
        "The [previous example](../multi-agent-collaboration) routed messages automatically based on the output of the initial researcher agent.\n",
        "\n",
        "We can also choose to use an [LLM to orchestrate](https://langchain-ai.github.io/langgraph/concepts/multi_agent/#supervisor) the different agents.\n",
        "\n",
        "Below, we will create an agent group, with an agent supervisor to help delegate tasks.\n",
        "\n",
        "![diagram](attachment:8ee0a8ce-f0a8-4019-b5bf-b20933e40956.png)\n",
        "\n",
        "To simplify the code in each agent node, we will use LangGraph's prebuilt [create_react_agent](https://langchain-ai.github.io/langgraph/reference/prebuilt/#langgraph.prebuilt.chat_agent_executor.create_react_agent). This and other \"advanced agent\" notebooks are designed to show how you can implement certain design patterns in LangGraph. If the pattern suits your needs, we recommend combining it with some of the other fundamental patterns described elsewhere in the docs for best performance.\n",
        "\n",
        "## Setup\n",
        "\n",
        "First, let's install required packages and set our API keys"
      ]
    },
    {
      "cell_type": "code",
      "execution_count": 1,
      "id": "0d30b6f7-3bec-4d9f-af50-43dfdc81ae6c",
      "metadata": {
        "id": "0d30b6f7-3bec-4d9f-af50-43dfdc81ae6c"
      },
      "outputs": [],
      "source": [
        "%%capture --no-stderr\n",
        "%pip install -U langgraph langchain_community langchain_google_genai langchain_experimental"
      ]
    },
    {
      "cell_type": "code",
      "execution_count": 2,
      "id": "30c2f3de-c730-4aec-85a6-af2c2f058803",
      "metadata": {
        "colab": {
          "base_uri": "https://localhost:8080/"
        },
        "id": "30c2f3de-c730-4aec-85a6-af2c2f058803",
        "outputId": "53fdfad5-2875-484a-8bc5-449f707c2745"
      },
      "outputs": [
        {
          "name": "stdout",
          "output_type": "stream",
          "text": [
            "Please provide your GOOGLE_API_KEY··········\n",
            "Please provide your TAVILY_API_KEY··········\n"
          ]
        }
      ],
      "source": [
        "import getpass\n",
        "import os\n",
        "\n",
        "\n",
        "def _set_if_undefined(var: str):\n",
        "    if not os.environ.get(var):\n",
        "        os.environ[var] = getpass.getpass(f\"Please provide your {var}\")\n",
        "\n",
        "\n",
        "_set_if_undefined(\"GOOGLE_API_KEY\")\n",
        "_set_if_undefined(\"TAVILY_API_KEY\")"
      ]
    },
    {
      "cell_type": "markdown",
      "id": "be85e3ad",
      "metadata": {
        "id": "be85e3ad"
      },
      "source": [
        "<div class=\"admonition tip\">\n",
        "    <p class=\"admonition-title\">Set up <a href=\"https://smith.langchain.com\">LangSmith</a> for LangGraph development</p>\n",
        "    <p style=\"padding-top: 5px;\">\n",
        "        Sign up for LangSmith to quickly spot issues and improve the performance of your LangGraph projects. LangSmith lets you use trace data to debug, test, and monitor your LLM apps built with LangGraph — read more about how to get started <a href=\"https://docs.smith.langchain.com\">here</a>.\n",
        "    </p>\n",
        "</div>"
      ]
    },
    {
      "cell_type": "markdown",
      "id": "1ac25624-4d83-45a4-b9ef-a10589aacfb7",
      "metadata": {
        "id": "1ac25624-4d83-45a4-b9ef-a10589aacfb7"
      },
      "source": [
        "## Create tools\n",
        "\n",
        "For this example, you will make an agent to do web research with a search engine, and one agent to create plots. Define the tools they'll use below:"
      ]
    },
    {
      "cell_type": "code",
      "execution_count": 3,
      "id": "f04c6778-403b-4b49-9b93-678e910d5cec",
      "metadata": {
        "id": "f04c6778-403b-4b49-9b93-678e910d5cec"
      },
      "outputs": [],
      "source": [
        "from typing import Annotated\n",
        "\n",
        "from langchain_community.tools.tavily_search import TavilySearchResults\n",
        "from langchain_core.tools import tool\n",
        "from langchain_experimental.utilities import PythonREPL\n",
        "\n",
        "tavily_tool = TavilySearchResults(max_results=5)\n",
        "\n",
        "# This executes code locally, which can be unsafe\n",
        "repl = PythonREPL()\n",
        "\n",
        "\n",
        "@tool\n",
        "def python_repl_tool(\n",
        "    code: Annotated[str, \"The python code to execute to generate your chart.\"],\n",
        "):\n",
        "    \"\"\"Use this to execute python code and do math. If you want to see the output of a value,\n",
        "    you should print it out with `print(...)`. This is visible to the user.\"\"\"\n",
        "    try:\n",
        "        result = repl.run(code)\n",
        "    except BaseException as e:\n",
        "        return f\"Failed to execute. Error: {repr(e)}\"\n",
        "    result_str = f\"Successfully executed:\\n```python\\n{code}\\n```\\nStdout: {result}\"\n",
        "    return result_str"
      ]
    },
    {
      "cell_type": "markdown",
      "id": "d32962d2-5487-496d-aefc-2a3b0d194985",
      "metadata": {
        "id": "d32962d2-5487-496d-aefc-2a3b0d194985"
      },
      "source": [
        "### Create Agent Supervisor\n",
        "\n",
        "It will use LLM with structured output to choose the next worker node OR finish processing."
      ]
    },
    {
      "cell_type": "code",
      "execution_count": 4,
      "id": "df2bd80b-c477-4d74-8faa-1c0548622239",
      "metadata": {
        "id": "df2bd80b-c477-4d74-8faa-1c0548622239"
      },
      "outputs": [],
      "source": [
        "from typing import Literal\n",
        "from pydantic import BaseModel\n",
        "\n",
        "from langchain_google_genai import ChatGoogleGenerativeAI\n",
        "from langgraph.graph import MessagesState, END\n",
        "from langgraph.types import Command\n",
        "\n",
        "\n",
        "members = [\"researcher\", \"coder\"]\n",
        "# Our team supervisor is an LLM node. It just picks the next agent to process\n",
        "# and decides when the work is completed\n",
        "options = members + [\"FINISH\"]\n",
        "\n",
        "system_prompt = (\n",
        "    \"You are a supervisor tasked with managing a conversation between the\"\n",
        "    f\" following workers: {members}. Given the following user request,\"\n",
        "    \" respond with the worker to act next. Each worker will perform a\"\n",
        "    \" task and respond with their results and status. When finished,\"\n",
        "    \" respond with FINISH.\"\n",
        ")\n",
        "\n",
        "\n",
        "class Router(BaseModel):\n",
        "    \"\"\"Worker to route to next. If no workers needed, route to FINISH.\"\"\"\n",
        "\n",
        "    next: Literal[\"researcher\", \"coder\", \"FINISH\"]\n",
        "\n",
        "\n",
        "llm = ChatGoogleGenerativeAI(model=\"gemini-2.0-flash\")\n",
        "\n",
        "class State(MessagesState):\n",
        "    next: str\n",
        "\n",
        "\n",
        "def supervisor_node(state: State) -> Command[Literal[\"researcher\", \"coder\", \"__end__\"]]:\n",
        "    messages = [\n",
        "        {\"role\": \"system\", \"content\": system_prompt},\n",
        "    ] + state[\"messages\"]\n",
        "    response = llm.with_structured_output(Router).invoke(messages)\n",
        "    goto = response.next\n",
        "    if goto == \"FINISH\":\n",
        "        goto = END\n",
        "\n",
        "    return Command(goto=goto, update={\"next\": goto})"
      ]
    },
    {
      "cell_type": "markdown",
      "id": "a07d507f-34d1-4f1b-8dde-5e58d17b2166",
      "metadata": {
        "id": "a07d507f-34d1-4f1b-8dde-5e58d17b2166"
      },
      "source": [
        "## Construct Graph\n",
        "\n",
        "We're ready to start building the graph. Below, define the state and worker nodes using the function we just defined."
      ]
    },
    {
      "cell_type": "code",
      "execution_count": 5,
      "id": "6a430af7-8fce-4e66-ba9e-d940c1bc48e8",
      "metadata": {
        "id": "6a430af7-8fce-4e66-ba9e-d940c1bc48e8"
      },
      "outputs": [],
      "source": [
        "from langchain_core.messages import HumanMessage\n",
        "from langgraph.graph import StateGraph, START, END\n",
        "from langgraph.prebuilt import create_react_agent\n",
        "\n",
        "\n",
        "research_agent = create_react_agent(\n",
        "    llm, tools=[tavily_tool], prompt=\"You are a researcher. DO NOT do any math.\"\n",
        ")\n",
        "\n",
        "\n",
        "def research_node(state: State) -> Command[Literal[\"supervisor\"]]:\n",
        "    result = research_agent.invoke(state)\n",
        "    return Command(\n",
        "        update={\n",
        "            \"messages\": [\n",
        "                HumanMessage(content=result[\"messages\"][-1].content, name=\"researcher\")\n",
        "            ]\n",
        "        },\n",
        "        goto=\"supervisor\",\n",
        "    )\n",
        "\n",
        "\n",
        "# NOTE: THIS PERFORMS ARBITRARY CODE EXECUTION, WHICH CAN BE UNSAFE WHEN NOT SANDBOXED\n",
        "code_agent = create_react_agent(llm, tools=[python_repl_tool])\n",
        "\n",
        "\n",
        "def code_node(state: State) -> Command[Literal[\"supervisor\"]]:\n",
        "    result = code_agent.invoke(state)\n",
        "    return Command(\n",
        "        update={\n",
        "            \"messages\": [\n",
        "                HumanMessage(content=result[\"messages\"][-1].content, name=\"coder\")\n",
        "            ]\n",
        "        },\n",
        "        goto=\"supervisor\",\n",
        "    )\n",
        "\n",
        "\n",
        "builder = StateGraph(State)\n",
        "builder.add_edge(START, \"supervisor\")\n",
        "builder.add_node(\"supervisor\", supervisor_node)\n",
        "builder.add_node(\"researcher\", research_node)\n",
        "builder.add_node(\"coder\", code_node)\n",
        "graph = builder.compile()"
      ]
    },
    {
      "cell_type": "code",
      "execution_count": 6,
      "id": "0175fe14-5854-4197-b7e8-559335d0f81b",
      "metadata": {
        "colab": {
          "base_uri": "https://localhost:8080/",
          "height": 266
        },
        "id": "0175fe14-5854-4197-b7e8-559335d0f81b",
        "outputId": "8e42330c-b20c-4a28-c36a-1816d873244a"
      },
      "outputs": [
        {
          "output_type": "display_data",
          "data": {
            "image/png": "[encoded data removed]",
            "text/plain": [
              "<IPython.core.display.Image object>"
            ]
          },
          "metadata": {}
        }
      ],
      "source": [
        "from IPython.display import display, Image\n",
        "\n",
        "display(Image(graph.get_graph().draw_mermaid_png()))"
      ]
    },
    {
      "cell_type": "markdown",
      "id": "d36496de-7121-4c49-8cb6-58c943c66628",
      "metadata": {
        "id": "d36496de-7121-4c49-8cb6-58c943c66628"
      },
      "source": [
        "## Invoke the team\n",
        "\n",
        "With the graph created, we can now invoke it and see how it performs!"
      ]
    },
    {
      "cell_type": "code",
      "execution_count": 8,
      "id": "56ba78e9-d9c1-457c-a073-d606d5d3e013",
      "metadata": {
        "colab": {
          "base_uri": "https://localhost:8080/"
        },
        "id": "56ba78e9-d9c1-457c-a073-d606d5d3e013",
        "outputId": "48b62b16-06e4-453a-a885-8832c1ab28a3"
      },
      "outputs": [
        {
          "output_type": "stream",
          "name": "stdout",
          "text": [
            "((), {'supervisor': {'next': 'researcher'}})\n",
            "----\n",
            "(('researcher:a49732db-dd5c-db1b-4f27-5034a6b10704',), {'agent': {'messages': [AIMessage(content='I am designed to avoid performing mathematical calculations. Would you like me to find information about the square root of 42 using the search tool?', additional_kwargs={}, response_metadata={'prompt_feedback': {'block_reason': 0, 'safety_ratings': []}, 'finish_reason': 'STOP', 'safety_ratings': []}, id='run-22484387-6fa7-49f2-a1e1-3e3845a5109e-0', usage_metadata={'input_tokens': 69, 'output_tokens': 30, 'total_tokens': 99, 'input_token_details': {'cache_read': 0}})]}})\n",
            "----\n",
            "((), {'researcher': {'messages': [HumanMessage(content='I am designed to avoid performing mathematical calculations. Would you like me to find information about the square root of 42 using the search tool?', additional_kwargs={}, response_metadata={}, name='researcher')]}})\n",
            "----\n",
            "((), {'supervisor': {'next': 'researcher'}})\n",
            "----\n",
            "(('researcher:ea603d78-43a8-87ed-2f49-410f0e4337cb',), {'agent': {'messages': [AIMessage(content='Yes, please do.', additional_kwargs={}, response_metadata={'prompt_feedback': {'block_reason': 0, 'safety_ratings': []}, 'finish_reason': 'STOP', 'safety_ratings': []}, id='run-ddadbd3c-4482-4472-bfb0-308991f190bb-0', usage_metadata={'input_tokens': 98, 'output_tokens': 5, 'total_tokens': 103, 'input_token_details': {'cache_read': 0}})]}})\n",
            "----\n",
            "((), {'researcher': {'messages': [HumanMessage(content='Yes, please do.', additional_kwargs={}, response_metadata={}, name='researcher')]}})\n",
            "----\n",
            "((), {'supervisor': {'next': 'researcher'}})\n",
            "----\n",
            "(('researcher:f94356e7-f086-5acb-b3cf-884b5ab2eb61',), {'agent': {'messages': [AIMessage(content='', additional_kwargs={'function_call': {'name': 'tavily_search_results_json', 'arguments': '{\"query\": \"square root of 42\"}'}}, response_metadata={'prompt_feedback': {'block_reason': 0, 'safety_ratings': []}, 'finish_reason': 'STOP', 'safety_ratings': []}, id='run-378c526d-fd0d-472b-b468-5a4385f6c349-0', tool_calls=[{'name': 'tavily_search_results_json', 'args': {'query': 'square root of 42'}, 'id': 'e2962044-7b55-4007-8c69-59628b153da6', 'type': 'tool_call'}], usage_metadata={'input_tokens': 103, 'output_tokens': 15, 'total_tokens': 118, 'input_token_details': {'cache_read': 0}})]}})\n",
            "----\n",
            "(('researcher:f94356e7-f086-5acb-b3cf-884b5ab2eb61',), {'tools': {'messages': [ToolMessage(content='[{\"title\": \"How to Find the Square Root of 42? - Cuemath\", \"url\": \"https://www.cuemath.com/algebra/square-root-of-42/\", \"content\": \"The square root of 42 is 6.4807. The square root of 42 is written as √42 in radical form and it cannot be reduced further. The square\", \"score\": 0.9325087}, {\"title\": \"Flexi answers - What is the square root of 42? | CK-12 Foundation\", \"url\": \"https://www.ck12.org/flexi/cbse-math/perfect-square-roots/what-is-the-square-root-of-42/\", \"content\": \"The square root of 42 is 6.481. The square root of a natural number is that number which, when multiplied by itself, gives b as the product.\", \"score\": 0.9301101}, {\"title\": \"How to Find the Square Root of 42? - BYJU\\'S\", \"url\": \"https://byjus.com/maths/square-root-of-42/\", \"content\": \"The value of the square root of 42 is approximately equal to 6.481, which is rounded to three decimal places.\", \"score\": 0.915091}, {\"title\": \"[FREE] Express the square root of 42 in radical form. - brainly.com\", \"url\": \"https://brainly.com/question/24495266\", \"content\": \"Since there is no perfect square factor other than 1 in 42, the square root of 42 in radical form remains √42. The process of simplifying square\", \"score\": 0.8945781}, {\"title\": \"[FREE] Is the square root of 42 rational or irrational? - brainly.com\", \"url\": \"https://brainly.com/question/3688941\", \"content\": \"The square root of 42 is irrational, because 42 is not a perfect square, meaning no number times itself will equal 42.\", \"score\": 0.86108357}]', name='tavily_search_results_json', id='0d4e0f76-81fb-471d-8ca3-4da5876f8a3e', tool_call_id='e2962044-7b55-4007-8c69-59628b153da6', artifact={'query': 'square root of 42', 'follow_up_questions': None, 'answer': None, 'images': [], 'results': [{'url': 'https://www.cuemath.com/algebra/square-root-of-42/', 'title': 'How to Find the Square Root of 42? - Cuemath', 'content': 'The square root of 42 is 6.4807. The square root of 42 is written as √42 in radical form and it cannot be reduced further. The square', 'score': 0.9325087, 'raw_content': None}, {'url': 'https://www.ck12.org/flexi/cbse-math/perfect-square-roots/what-is-the-square-root-of-42/', 'title': 'Flexi answers - What is the square root of 42? | CK-12 Foundation', 'content': 'The square root of 42 is 6.481. The square root of a natural number is that number which, when multiplied by itself, gives b as the product.', 'score': 0.9301101, 'raw_content': None}, {'url': 'https://byjus.com/maths/square-root-of-42/', 'title': \"How to Find the Square Root of 42? - BYJU'S\", 'content': 'The value of the square root of 42 is approximately equal to 6.481, which is rounded to three decimal places.', 'score': 0.915091, 'raw_content': None}, {'url': 'https://brainly.com/question/24495266', 'title': '[FREE] Express the square root of 42 in radical form. - brainly.com', 'content': 'Since there is no perfect square factor other than 1 in 42, the square root of 42 in radical form remains √42. The process of simplifying square', 'score': 0.8945781, 'raw_content': None}, {'url': 'https://brainly.com/question/3688941', 'title': '[FREE] Is the square root of 42 rational or irrational? - brainly.com', 'content': 'The square root of 42 is irrational, because 42 is not a perfect square, meaning no number times itself will equal 42.', 'score': 0.86108357, 'raw_content': None}], 'response_time': 1.37})]}})\n",
            "----\n",
            "(('researcher:f94356e7-f086-5acb-b3cf-884b5ab2eb61',), {'agent': {'messages': [AIMessage(content='The square root of 42 is approximately 6.481. It is an irrational number because 42 is not a perfect square.', additional_kwargs={}, response_metadata={'prompt_feedback': {'block_reason': 0, 'safety_ratings': []}, 'finish_reason': 'STOP', 'safety_ratings': []}, id='run-afeeebf4-7bc5-412b-98dc-af4cdc81929f-0', usage_metadata={'input_tokens': 522, 'output_tokens': 32, 'total_tokens': 554, 'input_token_details': {'cache_read': 0}})]}})\n",
            "----\n",
            "((), {'researcher': {'messages': [HumanMessage(content='The square root of 42 is approximately 6.481. It is an irrational number because 42 is not a perfect square.', additional_kwargs={}, response_metadata={}, name='researcher')]}})\n",
            "----\n",
            "((), {'supervisor': {'next': '__end__'}})\n",
            "----\n"
          ]
        }
      ],
      "source": [
        "for s in graph.stream(\n",
        "    {\"messages\": [(\"user\", \"What's the square root of 42?\")]}, subgraphs=True\n",
        "):\n",
        "    print(s)\n",
        "    print(\"----\")"
      ]
    },
    {
      "cell_type": "code",
      "execution_count": 13,
      "id": "45a92dfd-0e11-47f5-aad4-b68d24990e34",
      "metadata": {
        "colab": {
          "base_uri": "https://localhost:8080/"
        },
        "id": "45a92dfd-0e11-47f5-aad4-b68d24990e34",
        "outputId": "0cb268e0-7656-4118-ac4e-9c8bc7749f8c"
      },
      "outputs": [
        {
          "output_type": "stream",
          "name": "stdout",
          "text": [
            "((), {'supervisor': {'next': 'researcher'}})\n",
            "----\n",
            "(('researcher:150ef7b0-d2f6-ee3f-0f79-1b489ca4efab',), {'agent': {'messages': [AIMessage(content='', additional_kwargs={'function_call': {'name': 'tavily_search_results_json', 'arguments': '{\"query\": \"latest GDP of California\"}'}}, response_metadata={'prompt_feedback': {'block_reason': 0, 'safety_ratings': []}, 'finish_reason': 'STOP', 'safety_ratings': []}, id='run-704805d9-9697-4d5f-acd6-2326701f7be6-0', tool_calls=[{'name': 'tavily_search_results_json', 'args': {'query': 'latest GDP of New York'}, 'id': 'f3f11e90-d407-4311-ae09-bbfe00333fb5', 'type': 'tool_call'}, {'name': 'tavily_search_results_json', 'args': {'query': 'latest GDP of California'}, 'id': '965203c6-d4ef-49d4-9569-ce8627794f94', 'type': 'tool_call'}], usage_metadata={'input_tokens': 72, 'output_tokens': 27, 'total_tokens': 99, 'input_token_details': {'cache_read': 0}})]}})\n",
            "----\n",
            "(('researcher:150ef7b0-d2f6-ee3f-0f79-1b489ca4efab',), {'tools': {'messages': [ToolMessage(content='[{\"title\": \"What is the gross domestic product (GDP) in New York? - USAFacts\", \"url\": \"https://usafacts.org/answers/what-is-the-gross-domestic-product-gdp/state/new-york/\", \"content\": \"What is the gross domestic product (GDP) in New York? What is the gross domestic product (GDP) in New York? Gross domestic product (GDP) measures the value of goods and services a country or state produces — it’s the sum of consumer spending, business investment, government spending, and net exports. As of 2023, the real GDP was $1.8 trillion. Real GDP in New York, adjusted for inflation (chained 2017 dollars) GDP and the economic experience vary by location due to factors like cost of living, population density, workforce education, and the area’s main industries. In 2023, New York\\'s real (that is, inflation-adjusted) GDP per person was 1st out of all 50 states. In 2023, New York ranked 1st in state GDP per person.\", \"score\": 0.7440808}, {\"title\": \"Gross Domestic Product: All Industry Total in New York\", \"url\": \"https://tradingeconomics.com/united-states/total-gross-domestic-product-by-industry-for-new-york-fed-data.html\", \"content\": \"Interest Rate Inflation Rate Trading Economics provides the current actual value, an historical data chart and related indicators for Gross Domestic Product: All Industry Total in New York - last updated from the United States Federal Reserve on February of 2025. GDP Growth Rate Core Inflation Rate MoM Core Inflation Rate YoY Core PCE Price Index MoM Core PCE Price Index YoY Export Prices MoM GDP Price Index Import Prices MoM Inflation Rate MoM Inflation Rate YoY PCE Price Index MoM PCE Price Index YoY House Price Index House Price Index MoM House Price Index YoY National Home Price Index Economic Calendar Historical Data News Stream Earnings Releases Credit Ratings Forecasts Markets Currencies Stocks Commodities Bonds Crypto Get Started Ratings\", \"score\": 0.63397753}, {\"title\": \"U.S. New York metro area GDP 2001-2023 - Statista\", \"url\": \"https://www.statista.com/statistics/183815/gdp-of-the-new-york-metro-area/\", \"content\": \"Basic Statistic U.S. real GDP 2023, by metro area Premium Statistic U.S. New York metro area GDP 2001-2023 Premium Statistic U.S. Chicago metro area GDP 2001-2023 Basic Statistic U.S. Cleveland-Elyria metro area real GDP 2021, by industry Premium Statistic U.S. Cleveland-Elyria metro area real GDP growth rate 2002-2022 Premium Statistic U.S. Los Angeles metro area GDP 2022, by industry Premium Statistic U.S. Philadelphia metro area GDP 2001-2023 \\\\\"Gdp of The New York Metro Area in The United States from 2001 to 2023 (in Billion Chained 2017 U.S. Dollars).\\\\\" Statista, Statista Inc., 4 Dec 2024, https://www.statista.com/statistics/183815/gdp-of-the-new-york-metro-area/ BEA, GDP of the New York metro area in the United States from 2001 to 2023 (in billion chained 2017 U.S. dollars) Statista, https://www.statista.com/statistics/183815/gdp-of-the-new-york-metro-area/ (last visited February 08, 2025)\", \"score\": 0.5806618}, {\"title\": \"Economy of New York (state) - Wikipedia\", \"url\": \"https://en.wikipedia.org/wiki/Economy_of_New_York_(state)\", \"content\": \"Jump to content Search Personal tools Toggle the table of contents View history Tools From Wikipedia, the free encyclopedia For the economy of New York City, see Economy of New York City. Economy of New York New York (state) counties by GDP (2021) Main article: Economy of New York City Long Island has played a prominent role in scientific research and in engineering. Seven Nobel Prizes have been awarded for work conducted at Brookhaven lab.[21] Main article: Agriculture in New York The Erie Canal, completed in 1825, opened eastern U.S. markets to Midwest farm products. Bnl.gov. Academic Search Complete. Academic Search Complete. ^ \\\\\"Governor Cuomo Announces Formal Request for New York Exclusion from Federal Offshore Drilling Program\\\\\". History  Mobile view\", \"score\": 0.4942147}, {\"title\": \"Economic and Demographic Trends - New York State Comptroller\", \"url\": \"https://www.osc.ny.gov/reports/finance/2023-fcr/economic-and-demographic-trends\", \"content\": \"Economic and Demographic Trends – 2023 Financial Condition Report | Office of the New York State Comptroller The New York State Office of the State Comptroller\\'s website is provided in English. The State of New York, its officers, employees, and/or agents are not liable to you, or to third parties, for damages or losses of any kind arising out of, or in connection with, the use or performance of such information. New York State Comptroller New York State Comptroller New York State and Local Retirement System (NYSLRS) New York State Budget Analysis and Financial Reporting New York State Financial Reporting New York State’s real GDP increased by 3.2 percent, compared to 2.1 percent nationally.\", \"score\": 0.400703}]', name='tavily_search_results_json', id='9dcc86f1-acde-469c-b3fa-018e7f5d7467', tool_call_id='f3f11e90-d407-4311-ae09-bbfe00333fb5', artifact={'query': 'latest GDP of New York', 'follow_up_questions': None, 'answer': None, 'images': [], 'results': [{'url': 'https://usafacts.org/answers/what-is-the-gross-domestic-product-gdp/state/new-york/', 'title': 'What is the gross domestic product (GDP) in New York? - USAFacts', 'content': \"What is the gross domestic product (GDP) in New York? What is the gross domestic product (GDP) in New York? Gross domestic product (GDP) measures the value of goods and services a country or state produces — it’s the sum of consumer spending, business investment, government spending, and net exports. As of 2023, the real GDP was $1.8 trillion. Real GDP in New York, adjusted for inflation (chained 2017 dollars) GDP and the economic experience vary by location due to factors like cost of living, population density, workforce education, and the area’s main industries. In 2023, New York's real (that is, inflation-adjusted) GDP per person was 1st out of all 50 states. In 2023, New York ranked 1st in state GDP per person.\", 'score': 0.7440808, 'raw_content': None}, {'url': 'https://tradingeconomics.com/united-states/total-gross-domestic-product-by-industry-for-new-york-fed-data.html', 'title': 'Gross Domestic Product: All Industry Total in New York', 'content': 'Interest Rate Inflation Rate Trading Economics provides the current actual value, an historical data chart and related indicators for Gross Domestic Product: All Industry Total in New York - last updated from the United States Federal Reserve on February of 2025. GDP Growth Rate Core Inflation Rate MoM Core Inflation Rate YoY Core PCE Price Index MoM Core PCE Price Index YoY Export Prices MoM GDP Price Index Import Prices MoM Inflation Rate MoM Inflation Rate YoY PCE Price Index MoM PCE Price Index YoY House Price Index House Price Index MoM House Price Index YoY National Home Price Index Economic Calendar Historical Data News Stream Earnings Releases Credit Ratings Forecasts Markets Currencies Stocks Commodities Bonds Crypto Get Started Ratings', 'score': 0.63397753, 'raw_content': None}, {'url': 'https://www.statista.com/statistics/183815/gdp-of-the-new-york-metro-area/', 'title': 'U.S. New York metro area GDP 2001-2023 - Statista', 'content': 'Basic Statistic U.S. real GDP 2023, by metro area Premium Statistic U.S. New York metro area GDP 2001-2023 Premium Statistic U.S. Chicago metro area GDP 2001-2023 Basic Statistic U.S. Cleveland-Elyria metro area real GDP 2021, by industry Premium Statistic U.S. Cleveland-Elyria metro area real GDP growth rate 2002-2022 Premium Statistic U.S. Los Angeles metro area GDP 2022, by industry Premium Statistic U.S. Philadelphia metro area GDP 2001-2023 \"Gdp of The New York Metro Area in The United States from 2001 to 2023 (in Billion Chained 2017 U.S. Dollars).\" Statista, Statista Inc., 4 Dec 2024, https://www.statista.com/statistics/183815/gdp-of-the-new-york-metro-area/ BEA, GDP of the New York metro area in the United States from 2001 to 2023 (in billion chained 2017 U.S. dollars) Statista, https://www.statista.com/statistics/183815/gdp-of-the-new-york-metro-area/ (last visited February 08, 2025)', 'score': 0.5806618, 'raw_content': None}, {'url': 'https://en.wikipedia.org/wiki/Economy_of_New_York_(state)', 'title': 'Economy of New York (state) - Wikipedia', 'content': 'Jump to content Search Personal tools Toggle the table of contents View history Tools From Wikipedia, the free encyclopedia For the economy of New York City, see Economy of New York City. Economy of New York New York (state) counties by GDP (2021) Main article: Economy of New York City Long Island has played a prominent role in scientific research and in engineering. Seven Nobel Prizes have been awarded for work conducted at Brookhaven lab.[21] Main article: Agriculture in New York The Erie Canal, completed in 1825, opened eastern U.S. markets to Midwest farm products. Bnl.gov. Academic Search Complete. Academic Search Complete. ^ \"Governor Cuomo Announces Formal Request for New York Exclusion from Federal Offshore Drilling Program\". History  Mobile view', 'score': 0.4942147, 'raw_content': None}, {'url': 'https://www.osc.ny.gov/reports/finance/2023-fcr/economic-and-demographic-trends', 'title': 'Economic and Demographic Trends - New York State Comptroller', 'content': \"Economic and Demographic Trends – 2023 Financial Condition Report | Office of the New York State Comptroller The New York State Office of the State Comptroller's website is provided in English. The State of New York, its officers, employees, and/or agents are not liable to you, or to third parties, for damages or losses of any kind arising out of, or in connection with, the use or performance of such information. New York State Comptroller New York State Comptroller New York State and Local Retirement System (NYSLRS) New York State Budget Analysis and Financial Reporting New York State Financial Reporting New York State’s real GDP increased by 3.2 percent, compared to 2.1 percent nationally.\", 'score': 0.400703, 'raw_content': None}], 'response_time': 0.21}), ToolMessage(content='[{\"title\": \"What is the gross domestic product (GDP) in California? - USAFacts\", \"url\": \"https://usafacts.org/answers/what-is-the-gross-domestic-product-gdp/state/california/\", \"content\": \"Gross domestic product (GDP) measures the value of goods and services a country or state produces — it’s the sum of consumer spending, business investment, government spending, and net exports. The $3.2 trillion is the “real GDP,” which is adjusted to account for inflation to make it easier to compare the size of an economy over time. Real GDP (2023) As of 2023, the real GDP was $3.2 trillion. GDP and the economic experience vary by location due to factors like cost of living, population density, workforce education, and the area’s main industries. In 2023, California’s real (that is, inflation-adjusted) GDP per person was 4th highest out of all 50 states. In 2023, California ranked 4th in state GDP per person.\", \"score\": 0.6854659}, {\"title\": \"California Remains the World\\'s 5th Largest Economy\", \"url\": \"https://www.gov.ca.gov/2024/04/16/california-remains-the-worlds-5th-largest-economy/\", \"content\": \"California Remains the World’s 5th Largest Economy | Governor of California California Remains the World’s 5th Largest Economy SACRAMENTO – Thanks to continued economic growth and strong performances in a variety of industry sectors, California has again ranked as the 5th largest economy in the world. California remains the 5th largest economy in the world since 2017. California is the 5th largest economy in the world for the seventh consecutive year, with a nominal GDP of nearly $3.9 trillion in 2023 and a growth rate of 6.1% since the year prior, according to the U.S. Bureau of Economic Analysis (BEA). Footer Social Media Links\", \"score\": 0.6625569}, {\"title\": \"Real GDP California U.S. 2023 - Statista\", \"url\": \"https://www.statista.com/statistics/187834/gdp-of-the-us-federal-state-of-california-since-1997/\", \"content\": \"Basic Statistic U.S. real GDP of California 2000-2023 Premium Statistic U.S. annual GDP growth in California 2000-2023 Basic Statistic U.S. real value added to GDP in California 2023, by industry Premium Statistic U.S. California state government funding FY 2001-2024 Premium Statistic U.S. number of business establishments in California 2022, by industry Premium Statistic U.S. top companies in California 2021, by revenue Premium Statistic U.S. number of nonfarm employees in California 2023, by industry \\\\\"Real Gross Domestic Product of California in The United States from 2000 to 2023 (in Billion U.S. Dollars).\\\\\" Statista, Statista Inc., 29 Mar 2024, https://www.statista.com/statistics/187834/gdp-of-the-us-federal-state-of-california-since-1997/ BEA, Real gross domestic product of California in the United States from 2000 to 2023 (in billion U.S. dollars) Statista, https://www.statista.com/statistics/187834/gdp-of-the-us-federal-state-of-california-since-1997/ (last visited February 08, 2025)\", \"score\": 0.62358373}, {\"title\": \"California\\'s Economy - Public Policy Institute of California\", \"url\": \"https://www.ppic.org/publication/californias-economy/\", \"content\": \"California’s Economy California’s economy has grown relatively slowly in recent years, averaging 2.3% per year between 2020 and 2023, compared to 3.9% on average over the previous four years. Over the long term, California’s economy has grown faster than the nation overall (111% vs 75% over the past 25 years) and faster than other large states except for Texas (128%). On a per capita basis, California’s economic growth outpaces all other large states over the long term. California’s employment growth is generally similar to that of the nation (averaging 1.2% and 1.0%, respectively, over the past 25 years); since the pandemic, the state’s employment growth has been a bit slower (0.9% vs 1.1% in the US).\", \"score\": 0.41819844}, {\"title\": \"Economy of California - Wikipedia\", \"url\": \"https://en.wikipedia.org/wiki/Economy_of_California\", \"content\": \"California state and local tax revenue 2011 State and local tax and fee collections in California (2011) were $268.224 billion plus another $75.875 billion in federal transfers were spent by state and local government agencies.[52] The 8.4 percent \\\\\"average\\\\\" sales tax assessed by the state and local governments of California is one of the highest in the nation and varies by city and county from a low of 7.25% to 10.0%. Property taxes in California amounted to over $54.0 billion (2011) and are one of the largest taxes in California of which about $12.0 billion of the $54.0 billion collected was for voter approved \\\\\"extras\\\\\".[57] The property tax, despite being used primarily to finance local governments, has a significant effect on the state budget. ^ \\\\\"State of California\\\\\". ^ California, State of. State of California\", \"score\": 0.2951085}]', name='tavily_search_results_json', id='d3c9f2f8-2c2d-4b12-8d98-a14224e3bd34', tool_call_id='965203c6-d4ef-49d4-9569-ce8627794f94', artifact={'query': 'latest GDP of California', 'follow_up_questions': None, 'answer': None, 'images': [], 'results': [{'url': 'https://usafacts.org/answers/what-is-the-gross-domestic-product-gdp/state/california/', 'title': 'What is the gross domestic product (GDP) in California? - USAFacts', 'content': 'Gross domestic product (GDP) measures the value of goods and services a country or state produces — it’s the sum of consumer spending, business investment, government spending, and net exports. The $3.2 trillion is the “real GDP,” which is adjusted to account for inflation to make it easier to compare the size of an economy over time. Real GDP (2023) As of 2023, the real GDP was $3.2 trillion. GDP and the economic experience vary by location due to factors like cost of living, population density, workforce education, and the area’s main industries. In 2023, California’s real (that is, inflation-adjusted) GDP per person was 4th highest out of all 50 states. In 2023, California ranked 4th in state GDP per person.', 'score': 0.6854659, 'raw_content': None}, {'url': 'https://www.gov.ca.gov/2024/04/16/california-remains-the-worlds-5th-largest-economy/', 'title': \"California Remains the World's 5th Largest Economy\", 'content': 'California Remains the World’s 5th Largest Economy | Governor of California California Remains the World’s 5th Largest Economy SACRAMENTO – Thanks to continued economic growth and strong performances in a variety of industry sectors, California has again ranked as the 5th largest economy in the world. California remains the 5th largest economy in the world since 2017. California is the 5th largest economy in the world for the seventh consecutive year, with a nominal GDP of nearly $3.9 trillion in 2023 and a growth rate of 6.1% since the year prior, according to the U.S. Bureau of Economic Analysis (BEA). Footer Social Media Links', 'score': 0.6625569, 'raw_content': None}, {'url': 'https://www.statista.com/statistics/187834/gdp-of-the-us-federal-state-of-california-since-1997/', 'title': 'Real GDP California U.S. 2023 - Statista', 'content': 'Basic Statistic U.S. real GDP of California 2000-2023 Premium Statistic U.S. annual GDP growth in California 2000-2023 Basic Statistic U.S. real value added to GDP in California 2023, by industry Premium Statistic U.S. California state government funding FY 2001-2024 Premium Statistic U.S. number of business establishments in California 2022, by industry Premium Statistic U.S. top companies in California 2021, by revenue Premium Statistic U.S. number of nonfarm employees in California 2023, by industry \"Real Gross Domestic Product of California in The United States from 2000 to 2023 (in Billion U.S. Dollars).\" Statista, Statista Inc., 29 Mar 2024, https://www.statista.com/statistics/187834/gdp-of-the-us-federal-state-of-california-since-1997/ BEA, Real gross domestic product of California in the United States from 2000 to 2023 (in billion U.S. dollars) Statista, https://www.statista.com/statistics/187834/gdp-of-the-us-federal-state-of-california-since-1997/ (last visited February 08, 2025)', 'score': 0.62358373, 'raw_content': None}, {'url': 'https://www.ppic.org/publication/californias-economy/', 'title': \"California's Economy - Public Policy Institute of California\", 'content': 'California’s Economy California’s economy has grown relatively slowly in recent years, averaging 2.3% per year between 2020 and 2023, compared to 3.9% on average over the previous four years. Over the long term, California’s economy has grown faster than the nation overall (111% vs 75% over the past 25 years) and faster than other large states except for Texas (128%). On a per capita basis, California’s economic growth outpaces all other large states over the long term. California’s employment growth is generally similar to that of the nation (averaging 1.2% and 1.0%, respectively, over the past 25 years); since the pandemic, the state’s employment growth has been a bit slower (0.9% vs 1.1% in the US).', 'score': 0.41819844, 'raw_content': None}, {'url': 'https://en.wikipedia.org/wiki/Economy_of_California', 'title': 'Economy of California - Wikipedia', 'content': 'California state and local tax revenue 2011 State and local tax and fee collections in California (2011) were $268.224 billion plus another $75.875 billion in federal transfers were spent by state and local government agencies.[52] The 8.4 percent \"average\" sales tax assessed by the state and local governments of California is one of the highest in the nation and varies by city and county from a low of 7.25% to 10.0%. Property taxes in California amounted to over $54.0 billion (2011) and are one of the largest taxes in California of which about $12.0 billion of the $54.0 billion collected was for voter approved \"extras\".[57] The property tax, despite being used primarily to finance local governments, has a significant effect on the state budget. ^ \"State of California\". ^ California, State of. State of California', 'score': 0.2951085, 'raw_content': None}], 'response_time': 1.88})]}})\n",
            "----\n",
            "(('researcher:150ef7b0-d2f6-ee3f-0f79-1b489ca4efab',), {'agent': {'messages': [AIMessage(content=\"Okay, I've gathered some information.\\n\\nBased on the search results:\\n\\n*   **New York's real GDP in 2023 was $1.8 trillion.**\\n*   **California's real GDP in 2023 was $3.2 trillion.**\\n\\nI am unable to calculate the average as I am designed not to perform calculations.\", additional_kwargs={}, response_metadata={'prompt_feedback': {'block_reason': 0, 'safety_ratings': []}, 'finish_reason': 'STOP', 'safety_ratings': []}, id='run-2d0cd749-1caa-4810-ba51-9c9804c4dac8-0', usage_metadata={'input_tokens': 2568, 'output_tokens': 78, 'total_tokens': 2646, 'input_token_details': {'cache_read': 0}})]}})\n",
            "----\n",
            "((), {'researcher': {'messages': [HumanMessage(content=\"Okay, I've gathered some information.\\n\\nBased on the search results:\\n\\n*   **New York's real GDP in 2023 was $1.8 trillion.**\\n*   **California's real GDP in 2023 was $3.2 trillion.**\\n\\nI am unable to calculate the average as I am designed not to perform calculations.\", additional_kwargs={}, response_metadata={}, name='researcher')]}})\n",
            "----\n",
            "((), {'supervisor': {'next': 'coder'}})\n",
            "----\n",
            "(('coder:cfb89c8c-abd6-d919-1559-61615b380316',), {'agent': {'messages': [AIMessage(content='', additional_kwargs={'function_call': {'name': 'python_repl_tool', 'arguments': '{\"code\": \"print((1.8 + 3.2) / 2)\"}'}}, response_metadata={'prompt_feedback': {'block_reason': 0, 'safety_ratings': []}, 'finish_reason': 'STOP', 'safety_ratings': []}, id='run-248b7a57-15b9-41c0-9137-8f6c1d7be095-0', tool_calls=[{'name': 'python_repl_tool', 'args': {'code': 'print((1.8 + 3.2) / 2)'}, 'id': '038e4504-f74d-4fe4-b028-6536a3fe5aa8', 'type': 'tool_call'}], usage_metadata={'input_tokens': 149, 'output_tokens': 21, 'total_tokens': 170, 'input_token_details': {'cache_read': 0}})]}})\n",
            "----\n",
            "(('coder:cfb89c8c-abd6-d919-1559-61615b380316',), {'tools': {'messages': [ToolMessage(content='Successfully executed:\\n```python\\nprint((1.8 + 3.2) / 2)\\n```\\nStdout: 2.5\\n', name='python_repl_tool', id='f5aa2aef-0761-4162-9f1d-c3c72bd61dda', tool_call_id='038e4504-f74d-4fe4-b028-6536a3fe5aa8')]}})\n",
            "----\n",
            "(('coder:cfb89c8c-abd6-d919-1559-61615b380316',), {'agent': {'messages': [AIMessage(content='The average GDP of New York and California is $2.5 trillion.', additional_kwargs={}, response_metadata={'prompt_feedback': {'block_reason': 0, 'safety_ratings': []}, 'finish_reason': 'STOP', 'safety_ratings': []}, id='run-124bcc60-1e14-4595-a329-f211111ce265-0', usage_metadata={'input_tokens': 208, 'output_tokens': 16, 'total_tokens': 224, 'input_token_details': {'cache_read': 0}})]}})\n",
            "----\n",
            "((), {'coder': {'messages': [HumanMessage(content='The average GDP of New York and California is $2.5 trillion.', additional_kwargs={}, response_metadata={}, name='coder')]}})\n",
            "----\n",
            "((), {'supervisor': {'next': '__end__'}})\n",
            "----\n"
          ]
        }
      ],
      "source": [
        "for s in graph.stream(\n",
        "    {\n",
        "        \"messages\": [\n",
        "            (\n",
        "                \"user\",\n",
        "                \"Find the latest GDP of New York and California, then calculate the average\",\n",
        "            )\n",
        "        ]\n",
        "    },\n",
        "    subgraphs=True,\n",
        "):\n",
        "    print(s)\n",
        "    print(\"----\")"
      ]
    },
    {
      "cell_type": "code",
      "source": [],
      "metadata": {
        "id": "wz8Q9AOS7E0o"
      },
      "id": "wz8Q9AOS7E0o",
      "execution_count": null,
      "outputs": []
    }
  ],
  "metadata": {
    "kernelspec": {
      "display_name": "Python 3 (ipykernel)",
      "language": "python",
      "name": "python3"
    },
    "language_info": {
      "codemirror_mode": {
        "name": "ipython",
        "version": 3
      },
      "file_extension": ".py",
      "mimetype": "text/x-python",
      "name": "python",
      "nbconvert_exporter": "python",
      "pygments_lexer": "ipython3",
      "version": "3.12.3"
    },
    "colab": {
      "provenance": []
    }
  },
  "nbformat": 4,
  "nbformat_minor": 5
}